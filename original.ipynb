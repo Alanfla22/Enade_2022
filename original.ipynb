{
  "cells": [
    {
      "cell_type": "markdown",
      "metadata": {
        "id": "view-in-github",
        "colab_type": "text"
      },
      "source": [
        "<a href=\"https://colab.research.google.com/github/Alanfla22/Enade_2022/blob/main/original.ipynb\" target=\"_parent\"><img src=\"https://colab.research.google.com/assets/colab-badge.svg\" alt=\"Open In Colab\"/></a>"
      ]
    },
    {
      "cell_type": "markdown",
      "metadata": {
        "tags": [],
        "id": "a2C4wJPYCkXX"
      },
      "source": [
        "# Árvores II - Tarefa I"
      ]
    },
    {
      "cell_type": "markdown",
      "metadata": {
        "id": "Yl-03ibCCkXd"
      },
      "source": [
        "![image.png](attachment:f65bd82d-aa56-4cf2-8030-bb758771f332.png)  \n",
        "[fonte](https://momentum.org/programs-services/manage-your-money/savings-app/pxfuel-creative-commons-zero-cc0-iphone-smartphone-cell-phone-mobile-technology-texting/)\n",
        "\n",
        "Neste exercício vamos trabalhar com a base de dados de identificação de atividade humana com smartphones. Smartphones possuem acelerômetro e giroscópio, que registram dados de aceleração e giro nos eixos X, Y e Z, com frequencia de 50 Hz (ou seja, 50 registros por segundo). Os dados foram agrupados a medidas de 0.3 Hz, calculando-se variáveis derivadas como aceleração mínima, máxima, média etc por eixo no período agrupado de tempo, resultando em 561 variáveis que podem ser lidas nas bases disponíveis.\n",
        "\n",
        "A base é oriunda de um experimento, em que os indivíduos realizavam uma de seis atividades corriqueiras:\n",
        "- andando\n",
        "- subindo escada\n",
        "- descendo escada\n",
        "- parado\n",
        "- sentado\n",
        "- deitado\n",
        "\n",
        "O objetivo é classificar a atividade humana com base nos dados do acelerômetro e giroscópio do celular."
      ]
    },
    {
      "cell_type": "markdown",
      "metadata": {
        "id": "KVg0E3XFCkXh"
      },
      "source": [
        "### 1. Carregar a base\n",
        "\n",
        "Sua primeira atividade é carregar a base.\n",
        "\n",
        "Ela está disponível neste link:\n",
        "https://archive.ics.uci.edu/ml/datasets/human+activity+recognition+using+smartphones\n",
        "\n",
        "dados https://archive.ics.uci.edu/ml/machine-learning-databases/00240/  \n",
        "dataset.names https://archive.ics.uci.edu/ml/machine-learning-databases/00240/UCI%20HAR%20Dataset.names  \n",
        "UCI HAR Dataset.zip https://archive.ics.uci.edu/ml/machine-learning-databases/00240/UCI%20HAR%20Dataset.zip\n",
        "\n",
        "Você vai encontrar os seguintes arquivos:\n",
        "\n",
        "- **features.txt:** contém a lista com os nomes das variáveis\n",
        "- **features_info.txt:** contém a descrição das variáveis\n",
        "- **README.txt:** contém uma descrição do estudo e das bases\n",
        "- **activity_labels:** contém o código da atividade (inteiro entre 1 e 6) e a descrição\n",
        "- **subject_train.txt:** uma lista indicando que registro pertence a que indivíduo na base de treino\n",
        "- **X_train.txt:** as *features* (ou variáveis explicativas) da base de testes. Cada linha representa um registro das informações de um indivíduo em um intervalo de tempo de aproximadamente 1/0.3 segundo. As medidas estão em ordem temporal dentro do estudo, e o indivíduo que originou a medida está identificado na base subject_train.txt.\n",
        "- **y_train.txt:** Possui o mesmo número de linhas que X_test. Contém um número de 1 a 6 indicando a atividade que estava sendo realizada por aquele registro na base de treino.\n",
        "- **subject_test.txt:** uma lista indicando que registro pertence a que indivíduo na base de teste\n",
        "- **X_test.txt:** as *features* (ou variáveis explicativas) da base de testes. Cada linha representa um registro das informações de um indivíduo em um intervalo de tempo de aproximadamente 1/0.3 segundo. As medidas estão em ordem temporal dentro do estudo, e o indivíduo que originou a medida está identificado na base subject_test.txt.\n",
        "- **y_test.txt:** Possui o mesmo número de linhas que X_train. Contém um número de 1 a 6 indicando a atividade que estava sendo realizada por aquele registro na base de teste.\n",
        "\n",
        "Carregue as bases:\n",
        "\n",
        "1. Faça o download dos arquivos.\n",
        "2. Carregue a base ```features.txt``` em uma *Series* (por exemplo usando o comando ```pd.read_csv()```.\n",
        "3. Carregue a base subject_train.txt em uma *Series*\n",
        "4. Carregue a base X_train.txt\n",
        "    1. Faça com que as colunas deste *dataframe* tenham os nomes indicados em ```features.txt```\n",
        "    2. Sem alterar a ordem dos *dataframes*, coloque o indicador do indivíduo lido em ```subject_train.txt``` como uma variável a mais neste *dataframe***\n",
        "    3. Faça com que este *dataframe* tenha um índice duplo, composto pela ordem dos dados e pelo identificador do indivíduo\n",
        "5. Com a mesma lógica, carregue a base X_test\n",
        "    1. Certifique-se de que tenha os nomes lidos em ```features.txt```\n",
        "    2. Coloque o identificador do sujeito lido em ```subject_test.txt```\n",
        "    3. Defina um índice duplo composto pela ordem do registro e o identificador do registro\n",
        "6. Salve as bases em arquivos CSV para facilitar a leitura deles na terefa 2 deste módulo\n",
        "7. Considere que esta base é maior que a da aula, tanto em linhas quanto em colunas. Selecione apenas as três primeiras colunas da base ('tBodyAcc-mean()-X', 'tBodyAcc-mean()-Y' e 'tBodyAcc-mean()-Z'), para efeitos desse exercício.\n",
        "\n",
        "**OBS:** As bases já estão divididas em treino e teste, de modo que não vamos precisar da função ```train_test_split```."
      ]
    },
    {
      "cell_type": "code",
      "execution_count": 51,
      "metadata": {
        "id": "RCxMOe-ACkXo"
      },
      "outputs": [],
      "source": [
        "import pandas as pd\n",
        "from sklearn.tree import DecisionTreeClassifier\n",
        "import numpy as np\n",
        "import matplotlib.pyplot as plt\n",
        "\n"
      ]
    },
    {
      "cell_type": "code",
      "source": [
        "from google.colab import drive\n",
        "drive.mount('/content/drive')"
      ],
      "metadata": {
        "colab": {
          "base_uri": "https://localhost:8080/"
        },
        "id": "G3t-1_tkKbnj",
        "outputId": "0166da26-91e0-4025-8ce3-2e0005803fb0"
      },
      "execution_count": 52,
      "outputs": [
        {
          "output_type": "stream",
          "name": "stdout",
          "text": [
            "Drive already mounted at /content/drive; to attempt to forcibly remount, call drive.mount(\"/content/drive\", force_remount=True).\n"
          ]
        }
      ]
    },
    {
      "cell_type": "code",
      "source": [
        "ids = pd.read_csv('/content/drive/MyDrive/subject_train.txt', header=None)\n",
        "\n",
        "features = pd.read_csv('/content/drive/MyDrive/features.txt', sep=' ', names=['index', 'variaveis'])\n",
        "\n",
        "df = pd.read_excel('/content/drive/MyDrive/X_train_excel.xlsx', header=None)\n",
        "\n",
        "df.columns = list(features['variaveis'])\n",
        "\n",
        "df['ID'] = ids\n",
        "\n",
        "df.to_csv('/content/drive/MyDrive/X_train_comp.csv')"
      ],
      "metadata": {
        "id": "0Q9uocnSMYi4"
      },
      "execution_count": 53,
      "outputs": []
    },
    {
      "cell_type": "code",
      "source": [
        "ids = pd.read_csv('/content/drive/MyDrive/subject_train.txt', header=None)\n",
        "\n",
        "features = pd.read_csv('/content/drive/MyDrive/features.txt', sep=' ', names=['index', 'variaveis'])\n",
        "\n",
        "df = pd.read_excel('/content/drive/MyDrive/X_train_excel.xlsx', header=None)\n",
        "\n",
        "df.columns = list(features['variaveis'])\n",
        "\n",
        "df['ID'] = ids\n",
        "\n",
        "df.to_csv('/content/drive/MyDrive/X_train_comp.csv')"
      ],
      "metadata": {
        "id": "rCIGBWQHn2dA"
      },
      "execution_count": 54,
      "outputs": []
    },
    {
      "cell_type": "markdown",
      "metadata": {
        "id": "G2K9mT8hCkXt"
      },
      "source": [
        "### 2. Ajustar uma árvore de decisão\n",
        "\n",
        "- 2.1 ajuste uma árvore de decisão com número mínimo de observações por folha = 20. Certifique-se de que você esteja utilizando apenas as 3 variáveis indicadas no exercício anterior.\n",
        "- 2.2 Calcule os ccp_alphas. Como feito em aula, certifique-se de que todos os valores são positivos, e selecione apenas valores únicos.\n",
        "- 2.3 Considere que vamos fazer uma árvore para cada valor de ```ccp_alpha```. Para ter um pouco mais de velocidade, crie uma coleção de dados com os ```ccp_alphas```, considerando apenas 1 a cada 5 valores. Dica: utilize o slicing do tipo ```array[::5]``` para isto. Caso se sinta seguro, fique à vontade para utilizar mais valores de ```ccp_alpha```."
      ]
    },
    {
      "cell_type": "code",
      "execution_count": 55,
      "metadata": {
        "id": "lOtt7EwaCkXv",
        "colab": {
          "base_uri": "https://localhost:8080/"
        },
        "outputId": "460381e6-c969-4d9a-ebbf-d7e001273ff0"
      },
      "outputs": [
        {
          "output_type": "stream",
          "name": "stdout",
          "text": [
            "CPU times: user 1.41 s, sys: 29.8 ms, total: 1.44 s\n",
            "Wall time: 1.54 s\n"
          ]
        }
      ],
      "source": [
        "%%time\n",
        "\n",
        "X_train = pd.read_csv('/content/drive/MyDrive/X_train_comp.csv')[['tBodyAcc-mean()-X', 'tBodyAcc-mean()-Y', 'tBodyAcc-mean()-Z']]\n",
        "\n",
        "y_train = pd.read_csv('/content/drive/MyDrive/y_train.txt', header=None)\n"
      ]
    },
    {
      "cell_type": "code",
      "source": [
        "# 2.1 ajuste uma árvore de decisão com número mínimo de observações por folha = 20\n",
        "\n",
        "clf = DecisionTreeClassifier(random_state=2360873, min_samples_leaf=20).fit(X_train, y_train)"
      ],
      "metadata": {
        "id": "cyG38yyZ5kJL"
      },
      "execution_count": 56,
      "outputs": []
    },
    {
      "cell_type": "code",
      "source": [
        "# 2.2.A Calcule os ccp_alphas\n",
        "\n",
        "caminho = clf.cost_complexity_pruning_path(X_train, y_train)\n",
        "ccp_alphas, impurities = caminho.ccp_alphas, caminho.impurities"
      ],
      "metadata": {
        "id": "ntOfKsOQdPTa"
      },
      "execution_count": 57,
      "outputs": []
    },
    {
      "cell_type": "code",
      "source": [
        "# 2.2.B Certifique-se de que todos os valores são positivos, e selecione apenas valores únicos.\n",
        "\n",
        "print('Quantidade total de CCP_Alphas:', len(ccp_alphas))\n",
        "print('Quantidade de valores únicos de CCP_Alphas:', len(np.unique(ccp_alphas)))\n",
        "print('Menor valor de CCP_Alphas:', np.min(ccp_alphas))"
      ],
      "metadata": {
        "colab": {
          "base_uri": "https://localhost:8080/"
        },
        "id": "HRd4Sfk5ttgq",
        "outputId": "65fdde2f-add2-4584-970c-1c396a1e67eb"
      },
      "execution_count": 58,
      "outputs": [
        {
          "output_type": "stream",
          "name": "stdout",
          "text": [
            "Quantidade total de CCP_Alphas: 233\n",
            "Quantidade de valores únicos de CCP_Alphas: 233\n",
            "Menor valor de CCP_Alphas: 0.0\n"
          ]
        }
      ]
    },
    {
      "cell_type": "markdown",
      "metadata": {
        "id": "NQt8Iyc4CkXw"
      },
      "source": [
        "### 3. Desempenho da árvore por ccp_alpha\n",
        "\n",
        "- 3.1: Rode uma árvore para cada ```ccp_alpha```, salvando cada árvore em uma lista\n",
        "- 3.2: Calcule a acurácia de cada árvore na base de treinamento e de teste\n",
        "- 3.3: Monte um gráfico da acurácia em função do ```ccp_alpha``` na base de validação e na base de teste\n",
        "- 3.4: Selecione a melhor árvore como sendo aquela que possui melhor acurácia na base de teste\n",
        "- 3.5: Qual a melhor acurácia que se pode obter com estas três variáveis?\n",
        "\n",
        "**Dica:** utilize a estrutura do notebook apresentado em aula.  \n",
        "**Dica 2:** meça o tempo com a função mágica ```%%time``` na primeira linha da célula.  \n",
        "**Sugestão:** caso fique confortável com o tempo de execução, faça a busca pelo melhor ```ccp_alpha``` com mais iterações.  \n",
        "**Sugestão 2:** caso fique confortável com o tempo de execução, tente inserir uma ou mais variáveis adicionais e veja se consegue aumentar a acurácia."
      ]
    },
    {
      "cell_type": "code",
      "execution_count": 59,
      "metadata": {
        "id": "-Hp2RrW0CkXx",
        "colab": {
          "base_uri": "https://localhost:8080/"
        },
        "outputId": "4b28b370-2fa8-4c9f-bb52-3e2a2756491b"
      },
      "outputs": [
        {
          "output_type": "stream",
          "name": "stdout",
          "text": [
            "CPU times: user 19.3 s, sys: 20.8 ms, total: 19.3 s\n",
            "Wall time: 19.4 s\n"
          ]
        }
      ],
      "source": [
        "%%time\n",
        "\n",
        "# 3.1 Rode uma árvore para cada ccp_alpha, salvando cada árvore em uma lista\n",
        "\n",
        "clfs = []\n",
        "for ccp_alpha in ccp_alphas:\n",
        "    arv = DecisionTreeClassifier(random_state=2360873, ccp_alpha=ccp_alpha).fit(X_train, y_train)\n",
        "    clfs.append(arv)\n"
      ]
    },
    {
      "cell_type": "code",
      "source": [
        "# X_test = pd.read_csv('/content/drive/MyDrive/X_test.txt', sep=' ')"
      ],
      "metadata": {
        "id": "uJS3uIUOy3UZ"
      },
      "execution_count": 60,
      "outputs": []
    },
    {
      "cell_type": "code",
      "source": [
        "y_test = pd.read_csv('/content/drive/MyDrive/y_test.txt', header=None)\n",
        "\n",
        "y_test"
      ],
      "metadata": {
        "colab": {
          "base_uri": "https://localhost:8080/",
          "height": 424
        },
        "id": "YEvtOgRUoADW",
        "outputId": "8cd89f57-ed2a-4962-aed7-8f3e2ccda0ba"
      },
      "execution_count": 61,
      "outputs": [
        {
          "output_type": "execute_result",
          "data": {
            "text/plain": [
              "      0\n",
              "0     5\n",
              "1     5\n",
              "2     5\n",
              "3     5\n",
              "4     5\n",
              "...  ..\n",
              "2942  2\n",
              "2943  2\n",
              "2944  2\n",
              "2945  2\n",
              "2946  2\n",
              "\n",
              "[2947 rows x 1 columns]"
            ],
            "text/html": [
              "\n",
              "  <div id=\"df-29f0b65a-3b89-4c26-9e7e-f651a272c4f5\" class=\"colab-df-container\">\n",
              "    <div>\n",
              "<style scoped>\n",
              "    .dataframe tbody tr th:only-of-type {\n",
              "        vertical-align: middle;\n",
              "    }\n",
              "\n",
              "    .dataframe tbody tr th {\n",
              "        vertical-align: top;\n",
              "    }\n",
              "\n",
              "    .dataframe thead th {\n",
              "        text-align: right;\n",
              "    }\n",
              "</style>\n",
              "<table border=\"1\" class=\"dataframe\">\n",
              "  <thead>\n",
              "    <tr style=\"text-align: right;\">\n",
              "      <th></th>\n",
              "      <th>0</th>\n",
              "    </tr>\n",
              "  </thead>\n",
              "  <tbody>\n",
              "    <tr>\n",
              "      <th>0</th>\n",
              "      <td>5</td>\n",
              "    </tr>\n",
              "    <tr>\n",
              "      <th>1</th>\n",
              "      <td>5</td>\n",
              "    </tr>\n",
              "    <tr>\n",
              "      <th>2</th>\n",
              "      <td>5</td>\n",
              "    </tr>\n",
              "    <tr>\n",
              "      <th>3</th>\n",
              "      <td>5</td>\n",
              "    </tr>\n",
              "    <tr>\n",
              "      <th>4</th>\n",
              "      <td>5</td>\n",
              "    </tr>\n",
              "    <tr>\n",
              "      <th>...</th>\n",
              "      <td>...</td>\n",
              "    </tr>\n",
              "    <tr>\n",
              "      <th>2942</th>\n",
              "      <td>2</td>\n",
              "    </tr>\n",
              "    <tr>\n",
              "      <th>2943</th>\n",
              "      <td>2</td>\n",
              "    </tr>\n",
              "    <tr>\n",
              "      <th>2944</th>\n",
              "      <td>2</td>\n",
              "    </tr>\n",
              "    <tr>\n",
              "      <th>2945</th>\n",
              "      <td>2</td>\n",
              "    </tr>\n",
              "    <tr>\n",
              "      <th>2946</th>\n",
              "      <td>2</td>\n",
              "    </tr>\n",
              "  </tbody>\n",
              "</table>\n",
              "<p>2947 rows × 1 columns</p>\n",
              "</div>\n",
              "    <div class=\"colab-df-buttons\">\n",
              "\n",
              "  <div class=\"colab-df-container\">\n",
              "    <button class=\"colab-df-convert\" onclick=\"convertToInteractive('df-29f0b65a-3b89-4c26-9e7e-f651a272c4f5')\"\n",
              "            title=\"Convert this dataframe to an interactive table.\"\n",
              "            style=\"display:none;\">\n",
              "\n",
              "  <svg xmlns=\"http://www.w3.org/2000/svg\" height=\"24px\" viewBox=\"0 -960 960 960\">\n",
              "    <path d=\"M120-120v-720h720v720H120Zm60-500h600v-160H180v160Zm220 220h160v-160H400v160Zm0 220h160v-160H400v160ZM180-400h160v-160H180v160Zm440 0h160v-160H620v160ZM180-180h160v-160H180v160Zm440 0h160v-160H620v160Z\"/>\n",
              "  </svg>\n",
              "    </button>\n",
              "\n",
              "  <style>\n",
              "    .colab-df-container {\n",
              "      display:flex;\n",
              "      gap: 12px;\n",
              "    }\n",
              "\n",
              "    .colab-df-convert {\n",
              "      background-color: #E8F0FE;\n",
              "      border: none;\n",
              "      border-radius: 50%;\n",
              "      cursor: pointer;\n",
              "      display: none;\n",
              "      fill: #1967D2;\n",
              "      height: 32px;\n",
              "      padding: 0 0 0 0;\n",
              "      width: 32px;\n",
              "    }\n",
              "\n",
              "    .colab-df-convert:hover {\n",
              "      background-color: #E2EBFA;\n",
              "      box-shadow: 0px 1px 2px rgba(60, 64, 67, 0.3), 0px 1px 3px 1px rgba(60, 64, 67, 0.15);\n",
              "      fill: #174EA6;\n",
              "    }\n",
              "\n",
              "    .colab-df-buttons div {\n",
              "      margin-bottom: 4px;\n",
              "    }\n",
              "\n",
              "    [theme=dark] .colab-df-convert {\n",
              "      background-color: #3B4455;\n",
              "      fill: #D2E3FC;\n",
              "    }\n",
              "\n",
              "    [theme=dark] .colab-df-convert:hover {\n",
              "      background-color: #434B5C;\n",
              "      box-shadow: 0px 1px 3px 1px rgba(0, 0, 0, 0.15);\n",
              "      filter: drop-shadow(0px 1px 2px rgba(0, 0, 0, 0.3));\n",
              "      fill: #FFFFFF;\n",
              "    }\n",
              "  </style>\n",
              "\n",
              "    <script>\n",
              "      const buttonEl =\n",
              "        document.querySelector('#df-29f0b65a-3b89-4c26-9e7e-f651a272c4f5 button.colab-df-convert');\n",
              "      buttonEl.style.display =\n",
              "        google.colab.kernel.accessAllowed ? 'block' : 'none';\n",
              "\n",
              "      async function convertToInteractive(key) {\n",
              "        const element = document.querySelector('#df-29f0b65a-3b89-4c26-9e7e-f651a272c4f5');\n",
              "        const dataTable =\n",
              "          await google.colab.kernel.invokeFunction('convertToInteractive',\n",
              "                                                    [key], {});\n",
              "        if (!dataTable) return;\n",
              "\n",
              "        const docLinkHtml = 'Like what you see? Visit the ' +\n",
              "          '<a target=\"_blank\" href=https://colab.research.google.com/notebooks/data_table.ipynb>data table notebook</a>'\n",
              "          + ' to learn more about interactive tables.';\n",
              "        element.innerHTML = '';\n",
              "        dataTable['output_type'] = 'display_data';\n",
              "        await google.colab.output.renderOutput(dataTable, element);\n",
              "        const docLink = document.createElement('div');\n",
              "        docLink.innerHTML = docLinkHtml;\n",
              "        element.appendChild(docLink);\n",
              "      }\n",
              "    </script>\n",
              "  </div>\n",
              "\n",
              "\n",
              "<div id=\"df-f6bde292-43d2-4782-b366-b91dae20e7c2\">\n",
              "  <button class=\"colab-df-quickchart\" onclick=\"quickchart('df-f6bde292-43d2-4782-b366-b91dae20e7c2')\"\n",
              "            title=\"Suggest charts.\"\n",
              "            style=\"display:none;\">\n",
              "\n",
              "<svg xmlns=\"http://www.w3.org/2000/svg\" height=\"24px\"viewBox=\"0 0 24 24\"\n",
              "     width=\"24px\">\n",
              "    <g>\n",
              "        <path d=\"M19 3H5c-1.1 0-2 .9-2 2v14c0 1.1.9 2 2 2h14c1.1 0 2-.9 2-2V5c0-1.1-.9-2-2-2zM9 17H7v-7h2v7zm4 0h-2V7h2v10zm4 0h-2v-4h2v4z\"/>\n",
              "    </g>\n",
              "</svg>\n",
              "  </button>\n",
              "\n",
              "<style>\n",
              "  .colab-df-quickchart {\n",
              "      --bg-color: #E8F0FE;\n",
              "      --fill-color: #1967D2;\n",
              "      --hover-bg-color: #E2EBFA;\n",
              "      --hover-fill-color: #174EA6;\n",
              "      --disabled-fill-color: #AAA;\n",
              "      --disabled-bg-color: #DDD;\n",
              "  }\n",
              "\n",
              "  [theme=dark] .colab-df-quickchart {\n",
              "      --bg-color: #3B4455;\n",
              "      --fill-color: #D2E3FC;\n",
              "      --hover-bg-color: #434B5C;\n",
              "      --hover-fill-color: #FFFFFF;\n",
              "      --disabled-bg-color: #3B4455;\n",
              "      --disabled-fill-color: #666;\n",
              "  }\n",
              "\n",
              "  .colab-df-quickchart {\n",
              "    background-color: var(--bg-color);\n",
              "    border: none;\n",
              "    border-radius: 50%;\n",
              "    cursor: pointer;\n",
              "    display: none;\n",
              "    fill: var(--fill-color);\n",
              "    height: 32px;\n",
              "    padding: 0;\n",
              "    width: 32px;\n",
              "  }\n",
              "\n",
              "  .colab-df-quickchart:hover {\n",
              "    background-color: var(--hover-bg-color);\n",
              "    box-shadow: 0 1px 2px rgba(60, 64, 67, 0.3), 0 1px 3px 1px rgba(60, 64, 67, 0.15);\n",
              "    fill: var(--button-hover-fill-color);\n",
              "  }\n",
              "\n",
              "  .colab-df-quickchart-complete:disabled,\n",
              "  .colab-df-quickchart-complete:disabled:hover {\n",
              "    background-color: var(--disabled-bg-color);\n",
              "    fill: var(--disabled-fill-color);\n",
              "    box-shadow: none;\n",
              "  }\n",
              "\n",
              "  .colab-df-spinner {\n",
              "    border: 2px solid var(--fill-color);\n",
              "    border-color: transparent;\n",
              "    border-bottom-color: var(--fill-color);\n",
              "    animation:\n",
              "      spin 1s steps(1) infinite;\n",
              "  }\n",
              "\n",
              "  @keyframes spin {\n",
              "    0% {\n",
              "      border-color: transparent;\n",
              "      border-bottom-color: var(--fill-color);\n",
              "      border-left-color: var(--fill-color);\n",
              "    }\n",
              "    20% {\n",
              "      border-color: transparent;\n",
              "      border-left-color: var(--fill-color);\n",
              "      border-top-color: var(--fill-color);\n",
              "    }\n",
              "    30% {\n",
              "      border-color: transparent;\n",
              "      border-left-color: var(--fill-color);\n",
              "      border-top-color: var(--fill-color);\n",
              "      border-right-color: var(--fill-color);\n",
              "    }\n",
              "    40% {\n",
              "      border-color: transparent;\n",
              "      border-right-color: var(--fill-color);\n",
              "      border-top-color: var(--fill-color);\n",
              "    }\n",
              "    60% {\n",
              "      border-color: transparent;\n",
              "      border-right-color: var(--fill-color);\n",
              "    }\n",
              "    80% {\n",
              "      border-color: transparent;\n",
              "      border-right-color: var(--fill-color);\n",
              "      border-bottom-color: var(--fill-color);\n",
              "    }\n",
              "    90% {\n",
              "      border-color: transparent;\n",
              "      border-bottom-color: var(--fill-color);\n",
              "    }\n",
              "  }\n",
              "</style>\n",
              "\n",
              "  <script>\n",
              "    async function quickchart(key) {\n",
              "      const quickchartButtonEl =\n",
              "        document.querySelector('#' + key + ' button');\n",
              "      quickchartButtonEl.disabled = true;  // To prevent multiple clicks.\n",
              "      quickchartButtonEl.classList.add('colab-df-spinner');\n",
              "      try {\n",
              "        const charts = await google.colab.kernel.invokeFunction(\n",
              "            'suggestCharts', [key], {});\n",
              "      } catch (error) {\n",
              "        console.error('Error during call to suggestCharts:', error);\n",
              "      }\n",
              "      quickchartButtonEl.classList.remove('colab-df-spinner');\n",
              "      quickchartButtonEl.classList.add('colab-df-quickchart-complete');\n",
              "    }\n",
              "    (() => {\n",
              "      let quickchartButtonEl =\n",
              "        document.querySelector('#df-f6bde292-43d2-4782-b366-b91dae20e7c2 button');\n",
              "      quickchartButtonEl.style.display =\n",
              "        google.colab.kernel.accessAllowed ? 'block' : 'none';\n",
              "    })();\n",
              "  </script>\n",
              "</div>\n",
              "    </div>\n",
              "  </div>\n"
            ]
          },
          "metadata": {},
          "execution_count": 61
        }
      ]
    },
    {
      "cell_type": "code",
      "source": [
        "# 3.2 Calcule a acurácia de cada árvore na base de treinamento e de teste\n",
        "\n",
        "train_scores = [clf.score(X_train, y_train) for clf in clfs]\n",
        "# test_scores = [clf.score(X_test, y_test) for clf in clfs]\n",
        "\n",
        "fig, ax = plt.subplots()\n",
        "ax.set_xlabel(\"alpha\")\n",
        "ax.set_ylabel(\"Acurácia\")\n",
        "ax.set_title(\"Acurácia x alpha do conjunto de dados de treino e teste\")\n",
        "ax.plot(ccp_alphas, train_scores, marker='.', label=\"treino\",\n",
        "        drawstyle=\"steps-post\")\n",
        "# ax.plot(ccp_alphas, test_scores, marker='.', label=\"teste\",\n",
        "#        drawstyle=\"steps-post\")\n",
        "ax.legend()\n",
        "plt.show()"
      ],
      "metadata": {
        "colab": {
          "base_uri": "https://localhost:8080/",
          "height": 472
        },
        "id": "jHjwNjLzc1my",
        "outputId": "d8526cb2-9647-4d48-ab31-71f0e8be283c"
      },
      "execution_count": 62,
      "outputs": [
        {
          "output_type": "display_data",
          "data": {
            "text/plain": [
              "<Figure size 640x480 with 1 Axes>"
            ],
            "image/png": "[encoded data removed]"
          },
          "metadata": {}
        }
      ]
    },
    {
      "cell_type": "code",
      "source": [],
      "metadata": {
        "id": "MjHESrYXc2fQ"
      },
      "execution_count": 62,
      "outputs": []
    }
  ],
  "metadata": {
    "kernelspec": {
      "display_name": "Python 3",
      "language": "python",
      "name": "python3"
    },
    "language_info": {
      "codemirror_mode": {
        "name": "ipython",
        "version": 3
      },
      "file_extension": ".py",
      "mimetype": "text/x-python",
      "name": "python",
      "nbconvert_exporter": "python",
      "pygments_lexer": "ipython3",
      "version": "3.8.5"
    },
    "colab": {
      "provenance": [],
      "include_colab_link": true
    }
  },
  "nbformat": 4,
  "nbformat_minor": 0
}